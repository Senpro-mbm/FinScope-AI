{
 "cells": [
  {
   "cell_type": "code",
   "execution_count": 1,
   "metadata": {},
   "outputs": [
    {
     "name": "stdout",
     "output_type": "stream",
     "text": [
      "I recommend the following destinations for your next trip:\n",
      "\n",
      "1. Tokyo, Japan - Experience the vibrant city life, delicious cuisine, and unique blend of traditional and modern culture in Tokyo.\n",
      "2. Santorini, Greece - Explore the stunning white-washed buildings, crystal-clear waters, and breathtaking sunsets in the picturesque island of Santorini.\n",
      "3. Banff National Park, Canada - Immerse yourself in the natural beauty of the Canadian Rockies, with stunning mountain landscapes, turquoise lakes, and abundant wildlife in Banff National Park.\n"
     ]
    }
   ],
   "source": [
    "from langchain.chat_models import ChatOpenAI\n",
    "from langchain.schema import HumanMessage, SystemMessage, AIMessage\n",
    "from dotenv import load_dotenv\n",
    "import openai\n",
    "import os\n",
    "load_dotenv()\n",
    "os.getenv('OPENAI_API_KEY')\n",
    "\n",
    "\n",
    "chatgpt = ChatOpenAI(model_name = \"gpt-3.5-turbo\",\n",
    "                  temperature=0\n",
    "                 )\n",
    "\n",
    "high_level_behavior = \"\"\"\n",
    "                       You are an AI bot that help people decide where to travel.\n",
    "                       Always recommend three destination with a short sentence for each.\n",
    "                      \"\"\"\n",
    "\n",
    "response = chatgpt(\n",
    "    [\n",
    "        SystemMessage(content=high_level_behavior),\n",
    "        AIMessage(content=\"Hello! I am a traveller assistant, how can I help you?\"),\n",
    "        HumanMessage(content=\"Where should I travel next?\"),\n",
    "    ]\n",
    ")\n",
    "\n",
    "print(response.content)"
   ]
  },
  {
   "cell_type": "code",
   "execution_count": 9,
   "metadata": {},
   "outputs": [
    {
     "name": "stdout",
     "output_type": "stream",
     "text": [
      "Collecting langchain==0.0.316\n",
      "  Downloading langchain-0.0.316-py3-none-any.whl.metadata (15 kB)\n",
      "Collecting openai==0.28.1\n",
      "  Using cached openai-0.28.1-py3-none-any.whl.metadata (11 kB)\n",
      "Requirement already satisfied: PyYAML>=5.3 in /Users/bintangrestubawono/anaconda3/lib/python3.10/site-packages (from langchain==0.0.316) (6.0)\n",
      "Requirement already satisfied: SQLAlchemy<3,>=1.4 in /Users/bintangrestubawono/anaconda3/lib/python3.10/site-packages (from langchain==0.0.316) (2.0.20)\n",
      "Requirement already satisfied: aiohttp<4.0.0,>=3.8.3 in /Users/bintangrestubawono/anaconda3/lib/python3.10/site-packages (from langchain==0.0.316) (3.8.5)\n",
      "Requirement already satisfied: anyio<4.0 in /Users/bintangrestubawono/anaconda3/lib/python3.10/site-packages (from langchain==0.0.316) (3.7.1)\n",
      "Requirement already satisfied: async-timeout<5.0.0,>=4.0.0 in /Users/bintangrestubawono/anaconda3/lib/python3.10/site-packages (from langchain==0.0.316) (4.0.3)\n",
      "Requirement already satisfied: dataclasses-json<0.7,>=0.5.7 in /Users/bintangrestubawono/anaconda3/lib/python3.10/site-packages (from langchain==0.0.316) (0.5.14)\n",
      "Requirement already satisfied: jsonpatch<2.0,>=1.33 in /Users/bintangrestubawono/anaconda3/lib/python3.10/site-packages (from langchain==0.0.316) (1.33)\n",
      "Requirement already satisfied: langsmith<0.1.0,>=0.0.43 in /Users/bintangrestubawono/anaconda3/lib/python3.10/site-packages (from langchain==0.0.316) (0.0.83)\n",
      "Requirement already satisfied: numpy<2,>=1 in /Users/bintangrestubawono/anaconda3/lib/python3.10/site-packages (from langchain==0.0.316) (1.24.3)\n",
      "Requirement already satisfied: pydantic<3,>=1 in /Users/bintangrestubawono/anaconda3/lib/python3.10/site-packages (from langchain==0.0.316) (1.10.12)\n",
      "Requirement already satisfied: requests<3,>=2 in /Users/bintangrestubawono/anaconda3/lib/python3.10/site-packages (from langchain==0.0.316) (2.21.0)\n",
      "Requirement already satisfied: tenacity<9.0.0,>=8.1.0 in /Users/bintangrestubawono/anaconda3/lib/python3.10/site-packages (from langchain==0.0.316) (8.2.3)\n",
      "Requirement already satisfied: tqdm in /Users/bintangrestubawono/anaconda3/lib/python3.10/site-packages (from openai==0.28.1) (4.65.0)\n",
      "Requirement already satisfied: attrs>=17.3.0 in /Users/bintangrestubawono/anaconda3/lib/python3.10/site-packages (from aiohttp<4.0.0,>=3.8.3->langchain==0.0.316) (23.1.0)\n",
      "Requirement already satisfied: charset-normalizer<4.0,>=2.0 in /Users/bintangrestubawono/anaconda3/lib/python3.10/site-packages (from aiohttp<4.0.0,>=3.8.3->langchain==0.0.316) (3.1.0)\n",
      "Requirement already satisfied: multidict<7.0,>=4.5 in /Users/bintangrestubawono/anaconda3/lib/python3.10/site-packages (from aiohttp<4.0.0,>=3.8.3->langchain==0.0.316) (6.0.4)\n",
      "Requirement already satisfied: yarl<2.0,>=1.0 in /Users/bintangrestubawono/anaconda3/lib/python3.10/site-packages (from aiohttp<4.0.0,>=3.8.3->langchain==0.0.316) (1.9.2)\n",
      "Requirement already satisfied: frozenlist>=1.1.1 in /Users/bintangrestubawono/anaconda3/lib/python3.10/site-packages (from aiohttp<4.0.0,>=3.8.3->langchain==0.0.316) (1.4.0)\n",
      "Requirement already satisfied: aiosignal>=1.1.2 in /Users/bintangrestubawono/anaconda3/lib/python3.10/site-packages (from aiohttp<4.0.0,>=3.8.3->langchain==0.0.316) (1.3.1)\n",
      "Requirement already satisfied: idna>=2.8 in /Users/bintangrestubawono/anaconda3/lib/python3.10/site-packages (from anyio<4.0->langchain==0.0.316) (2.8)\n",
      "Requirement already satisfied: sniffio>=1.1 in /Users/bintangrestubawono/anaconda3/lib/python3.10/site-packages (from anyio<4.0->langchain==0.0.316) (1.3.0)\n",
      "Requirement already satisfied: exceptiongroup in /Users/bintangrestubawono/anaconda3/lib/python3.10/site-packages (from anyio<4.0->langchain==0.0.316) (1.1.2)\n",
      "Requirement already satisfied: marshmallow<4.0.0,>=3.18.0 in /Users/bintangrestubawono/anaconda3/lib/python3.10/site-packages (from dataclasses-json<0.7,>=0.5.7->langchain==0.0.316) (3.20.1)\n",
      "Requirement already satisfied: typing-inspect<1,>=0.4.0 in /Users/bintangrestubawono/anaconda3/lib/python3.10/site-packages (from dataclasses-json<0.7,>=0.5.7->langchain==0.0.316) (0.9.0)\n",
      "Requirement already satisfied: jsonpointer>=1.9 in /Users/bintangrestubawono/anaconda3/lib/python3.10/site-packages (from jsonpatch<2.0,>=1.33->langchain==0.0.316) (2.0)\n",
      "Requirement already satisfied: typing-extensions>=4.2.0 in /Users/bintangrestubawono/anaconda3/lib/python3.10/site-packages (from pydantic<3,>=1->langchain==0.0.316) (4.11.0)\n",
      "Requirement already satisfied: chardet<3.1.0,>=3.0.2 in /Users/bintangrestubawono/anaconda3/lib/python3.10/site-packages (from requests<3,>=2->langchain==0.0.316) (3.0.4)\n",
      "Requirement already satisfied: urllib3<1.25,>=1.21.1 in /Users/bintangrestubawono/anaconda3/lib/python3.10/site-packages (from requests<3,>=2->langchain==0.0.316) (1.24.3)\n",
      "Requirement already satisfied: certifi>=2017.4.17 in /Users/bintangrestubawono/anaconda3/lib/python3.10/site-packages (from requests<3,>=2->langchain==0.0.316) (2023.5.7)\n",
      "Requirement already satisfied: packaging>=17.0 in /Users/bintangrestubawono/anaconda3/lib/python3.10/site-packages (from marshmallow<4.0.0,>=3.18.0->dataclasses-json<0.7,>=0.5.7->langchain==0.0.316) (23.2)\n",
      "Requirement already satisfied: mypy-extensions>=0.3.0 in /Users/bintangrestubawono/anaconda3/lib/python3.10/site-packages (from typing-inspect<1,>=0.4.0->dataclasses-json<0.7,>=0.5.7->langchain==0.0.316) (1.0.0)\n",
      "Downloading langchain-0.0.316-py3-none-any.whl (1.9 MB)\n",
      "\u001b[2K   \u001b[90m━━━━━━━━━━━━━━━━━━━━━━━━━━━━━━━━━━━━━━━━\u001b[0m \u001b[32m1.9/1.9 MB\u001b[0m \u001b[31m4.0 MB/s\u001b[0m eta \u001b[36m0:00:00\u001b[0m00:01\u001b[0m00:01\u001b[0m\n",
      "\u001b[?25hUsing cached openai-0.28.1-py3-none-any.whl (76 kB)\n",
      "\u001b[33mDEPRECATION: textract 1.6.5 has a non-standard dependency specifier extract-msg<=0.29.*. pip 24.1 will enforce this behaviour change. A possible replacement is to upgrade to a newer version of textract or contact the author to suggest that they release a version with a conforming dependency specifiers. Discussion can be found at https://github.com/pypa/pip/issues/12063\u001b[0m\u001b[33m\n",
      "\u001b[0mInstalling collected packages: openai, langchain\n",
      "  Attempting uninstall: openai\n",
      "    Found existing installation: openai 1.10.0\n",
      "    Uninstalling openai-1.10.0:\n",
      "      Successfully uninstalled openai-1.10.0\n",
      "  Attempting uninstall: langchain\n",
      "    Found existing installation: langchain 0.0.271\n",
      "    Uninstalling langchain-0.0.271:\n",
      "      Successfully uninstalled langchain-0.0.271\n",
      "Successfully installed langchain-0.0.316 openai-0.28.1\n"
     ]
    }
   ],
   "source": [
    "!pip install langchain==0.0.316 openai==0.28.1"
   ]
  }
 ],
 "metadata": {
  "kernelspec": {
   "display_name": "base",
   "language": "python",
   "name": "python3"
  },
  "language_info": {
   "codemirror_mode": {
    "name": "ipython",
    "version": 3
   },
   "file_extension": ".py",
   "mimetype": "text/x-python",
   "name": "python",
   "nbconvert_exporter": "python",
   "pygments_lexer": "ipython3",
   "version": "3.10.8"
  }
 },
 "nbformat": 4,
 "nbformat_minor": 2
}
